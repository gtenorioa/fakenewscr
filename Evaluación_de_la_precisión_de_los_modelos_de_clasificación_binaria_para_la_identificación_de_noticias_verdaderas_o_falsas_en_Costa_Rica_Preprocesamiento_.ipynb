{
  "nbformat": 4,
  "nbformat_minor": 0,
  "metadata": {
    "colab": {
      "name": "Evaluación de la precisión de los modelos de clasificación binaria para la identificación de noticias verdaderas o falsas en Costa Rica -Preprocesamiento del texto.ipynb",
      "provenance": [],
      "collapsed_sections": []
    },
    "kernelspec": {
      "name": "python3",
      "display_name": "Python 3"
    }
  },
  "cells": [
    {
      "cell_type": "markdown",
      "metadata": {
        "id": "-PuvSSGSLvLX",
        "colab_type": "text"
      },
      "source": [
        "#Preprocesamiento de los datos"
      ]
    },
    {
      "cell_type": "markdown",
      "metadata": {
        "id": "sT6cxIjTCzeG",
        "colab_type": "text"
      },
      "source": [
        "El siguiente documento incluye los pasos llevados a cabo, para realizar el preprocesamiento del texto de las noticias a utilizar en el trabajo \"Evaluación de la precisión de los modelos de\n",
        "clasificación binaria para la identificación de\n",
        "noticias verdaderas o falsas en Costa Rica\". Como archivo de entrada se requiere del uso del archivo \"RawData_Espannol_Ingles_09222019.csv\""
      ]
    },
    {
      "cell_type": "markdown",
      "metadata": {
        "id": "T_wf7UFjoaLO",
        "colab_type": "text"
      },
      "source": [
        "# **Librerias utilizadas**"
      ]
    },
    {
      "cell_type": "code",
      "metadata": {
        "id": "l69_WSHoClIq",
        "colab_type": "code",
        "colab": {}
      },
      "source": [
        "from nltk.corpus import stopwords"
      ],
      "execution_count": null,
      "outputs": []
    },
    {
      "cell_type": "code",
      "metadata": {
        "id": "ALuLDZg-C9Kx",
        "colab_type": "code",
        "colab": {
          "base_uri": "https://localhost:8080/",
          "height": 212
        },
        "outputId": "5018af96-f976-4f66-902d-5ee363894794"
      },
      "source": [
        "#Import necessary packages, torch, numpy, pylab\n",
        "import torch\n",
        "from torch.autograd import Variable\n",
        "import numpy as np\n",
        "import matplotlib.pyplot as plt\n",
        "import torch.nn.init as init\n",
        "\n",
        "#unicode to ASCII conversion\n",
        "from __future__ import unicode_literals, print_function, division\n",
        "\n",
        "#Import necessary packages, torch, numpy, pylab\n",
        "import torch\n",
        "from torch.autograd import Variable\n",
        "import numpy as np\n",
        "import matplotlib.pyplot as plt\n",
        "import torch.nn.init as init\n",
        "import random\n",
        "import torch.nn as nn\n",
        "import matplotlib.ticker as ticker\n",
        "#open files\n",
        "from io import open\n",
        "#global path\n",
        "import glob\n",
        "#Operating system calls\n",
        "import os\n",
        "#unicode manipulation\n",
        "import unicodedata\n",
        "#string manipulation\n",
        "import string\n",
        "import math\n",
        "\n",
        "!pip3 install matplotlib2tikz\n",
        "import matplotlib2tikz\n",
        "import pandas as pd;\n",
        "from numpy.random import choice\n",
        "from sklearn.decomposition import PCA\n",
        "from sklearn import preprocessing\n",
        "import re\n",
        "from unicodedata import normalize\n",
        "from nltk.stem import LancasterStemmer, WordNetLemmatizer\n"
      ],
      "execution_count": null,
      "outputs": [
        {
          "output_type": "stream",
          "text": [
            "Requirement already satisfied: matplotlib2tikz in /usr/local/lib/python3.6/dist-packages (0.7.5)\n",
            "Requirement already satisfied: six in /usr/local/lib/python3.6/dist-packages (from matplotlib2tikz) (1.12.0)\n",
            "Requirement already satisfied: matplotlib>=1.4.0 in /usr/local/lib/python3.6/dist-packages (from matplotlib2tikz) (3.0.3)\n",
            "Requirement already satisfied: Pillow in /usr/local/lib/python3.6/dist-packages (from matplotlib2tikz) (4.3.0)\n",
            "Requirement already satisfied: numpy in /usr/local/lib/python3.6/dist-packages (from matplotlib2tikz) (1.16.5)\n",
            "Requirement already satisfied: cycler>=0.10 in /usr/local/lib/python3.6/dist-packages (from matplotlib>=1.4.0->matplotlib2tikz) (0.10.0)\n",
            "Requirement already satisfied: pyparsing!=2.0.4,!=2.1.2,!=2.1.6,>=2.0.1 in /usr/local/lib/python3.6/dist-packages (from matplotlib>=1.4.0->matplotlib2tikz) (2.4.2)\n",
            "Requirement already satisfied: kiwisolver>=1.0.1 in /usr/local/lib/python3.6/dist-packages (from matplotlib>=1.4.0->matplotlib2tikz) (1.1.0)\n",
            "Requirement already satisfied: python-dateutil>=2.1 in /usr/local/lib/python3.6/dist-packages (from matplotlib>=1.4.0->matplotlib2tikz) (2.5.3)\n",
            "Requirement already satisfied: olefile in /usr/local/lib/python3.6/dist-packages (from Pillow->matplotlib2tikz) (0.46)\n",
            "Requirement already satisfied: setuptools in /usr/local/lib/python3.6/dist-packages (from kiwisolver>=1.0.1->matplotlib>=1.4.0->matplotlib2tikz) (41.2.0)\n"
          ],
          "name": "stdout"
        }
      ]
    },
    {
      "cell_type": "code",
      "metadata": {
        "id": "xOEwZIRLIvbk",
        "colab_type": "code",
        "colab": {
          "base_uri": "https://localhost:8080/",
          "height": 638
        },
        "outputId": "d7601497-2849-4064-c3a4-9995102500da"
      },
      "source": [
        "from google.colab import drive\n",
        "drive.mount('/content/drive')\n",
        "!ls \"/content/drive/My Drive/Maestria/Proyecto de Investigación II/Dataset_files/webhose_dataset/\"\n",
        "rootDir = \"/content/drive/My Drive/Maestria/Proyecto de Investigación II/Dataset_files/webhose_dataset/\""
      ],
      "execution_count": null,
      "outputs": [
        {
          "output_type": "stream",
          "text": [
            "Drive already mounted at /content/drive; to attempt to forcibly remount, call drive.mount(\"/content/drive\", force_remount=True).\n",
            " ConjuntoDatosPreprocesados_20190922.csv\n",
            "'~$ConjuntoDatosPreprocesados_20190922_lematizado.xlsx'\n",
            " ConjuntoDatosPreprocesados_20190922_lematizado.xlsx\n",
            " ConjuntoDatosPreprocesados_20190922_v2.csv\n",
            " ConjuntoDatosPreprocesados_20190922_v2.xlsx\n",
            " ConjuntoDatosPreprocesados_20190922.xlsx\n",
            " ConjuntoDatosVersion1.csv\n",
            " ConjuntoDatosVersion1.xlsx\n",
            " ConjuntoDatosVersion2.csv\n",
            " ConjuntoDatosVersion2.xlsx\n",
            " ConjuntoDatosVersion3.csv\n",
            " ConjuntoDatosVersion3.xlsx\n",
            " ConjuntoDatosVersionWebScrapping_v1.csv\n",
            " ConjuntoDatosWebScrapping_v1.xlsx\n",
            " ConjuntoDatosWebScrapping_v2.xlsx\n",
            " ConjuntoFiltroRemoviendoFeatures.csv\n",
            "'Copia de RawData_Espannol_Ingles_09222019_formulas.xlsx'\n",
            "'datasource_clasificado_webhouse - copia.xlsx'\n",
            "'datasource_clasificado_webhouse _Ingles.xlsx'\n",
            " datasource_clasificado_webhouse.xls\n",
            " datasource_clasificado.xls\n",
            "'~$DescripcionVariables.xlsx'\n",
            " DescripcionVariables.xlsx\n",
            " Dicc\n",
            "'LIWC2001 dictionary poster.pdf'\n",
            "'LIWC2007 dictionary poster.pdf'\n",
            "'LIWC2015 dictionary poster.pdf'\n",
            " LIWC2015_English.dic\n",
            "'LIWC2015 german dictionary poster.pdf'\n",
            " RawData_Espannol_09222019.csv\n",
            " RawData_Espannol_Ingles_09222019.csv\n",
            "'~$RawData_Espannol_Ingles_09222019.xlsx'\n",
            " RawData_Espannol_Ingles_09222019.xlsx\n",
            " webhose_dataset.xls\n"
          ],
          "name": "stdout"
        }
      ]
    },
    {
      "cell_type": "code",
      "metadata": {
        "id": "-rD7fyHqI4FB",
        "colab_type": "code",
        "colab": {
          "base_uri": "https://localhost:8080/",
          "height": 281
        },
        "outputId": "ad4577a7-ac97-4dc2-d1b6-a99b2ce95b3c"
      },
      "source": [
        "inputDataset = rootDir + 'RawData_Espannol_Ingles_09222019.csv';\n",
        "df = pd.read_csv(inputDataset, sep=';', encoding='latin-1',header=(0),decimal=',' )\n",
        "df.head()"
      ],
      "execution_count": null,
      "outputs": [
        {
          "output_type": "execute_result",
          "data": {
            "text/html": [
              "<div>\n",
              "<style scoped>\n",
              "    .dataframe tbody tr th:only-of-type {\n",
              "        vertical-align: middle;\n",
              "    }\n",
              "\n",
              "    .dataframe tbody tr th {\n",
              "        vertical-align: top;\n",
              "    }\n",
              "\n",
              "    .dataframe thead th {\n",
              "        text-align: right;\n",
              "    }\n",
              "</style>\n",
              "<table border=\"1\" class=\"dataframe\">\n",
              "  <thead>\n",
              "    <tr style=\"text-align: right;\">\n",
              "      <th></th>\n",
              "      <th>URLNoticia</th>\n",
              "      <th>Fuente</th>\n",
              "      <th>Clasificacion</th>\n",
              "      <th>MedioPeriodistico</th>\n",
              "      <th>Titulo</th>\n",
              "      <th>Texto</th>\n",
              "      <th>TipoSitio</th>\n",
              "      <th>TituloIngles</th>\n",
              "      <th>TextoIngles</th>\n",
              "    </tr>\n",
              "  </thead>\n",
              "  <tbody>\n",
              "    <tr>\n",
              "      <th>0</th>\n",
              "      <td>http://columbia.co.cr/index.php/reportajes/esp...</td>\n",
              "      <td>http://columbia.co.cr/</td>\n",
              "      <td>1.0</td>\n",
              "      <td>Columbia</td>\n",
              "      <td>Los Rostros del Desempleo</td>\n",
              "      <td>Detalles Redacción Los Rostros del Desempleo D...</td>\n",
              "      <td>news</td>\n",
              "      <td>Faces of Unemployment</td>\n",
              "      <td>Editorial details Faces of Unemployment detail...</td>\n",
              "    </tr>\n",
              "    <tr>\n",
              "      <th>1</th>\n",
              "      <td>http://columbia.co.cr/index.php/reportajes/esp...</td>\n",
              "      <td>http://columbia.co.cr/</td>\n",
              "      <td>1.0</td>\n",
              "      <td>Columbia</td>\n",
              "      <td>Con los pies en la luna</td>\n",
              "      <td>Detalles Alejandro Arley Con los pies en la lu...</td>\n",
              "      <td>news</td>\n",
              "      <td>With the feet on the moon</td>\n",
              "      <td>Alejandro Arley Details Down to the moon detai...</td>\n",
              "    </tr>\n",
              "    <tr>\n",
              "      <th>2</th>\n",
              "      <td>http://columbia.co.cr/index.php/noticias/inter...</td>\n",
              "      <td>http://columbia.co.cr/</td>\n",
              "      <td>1.0</td>\n",
              "      <td>Columbia</td>\n",
              "      <td>El salario mínimo de Venezuela toca suelo: 2 d...</td>\n",
              "      <td>Caracas, 30 ago (EFE).- Hoy, por primera vez, ...</td>\n",
              "      <td>news</td>\n",
              "      <td>Venezuela's minimum wage floor plays: $ 2</td>\n",
              "      <td>Caracas, Aug 30 (EFE) .- Today, for the first ...</td>\n",
              "    </tr>\n",
              "    <tr>\n",
              "      <th>3</th>\n",
              "      <td>http://columbia.co.cr/index.php/deportes/futbo...</td>\n",
              "      <td>http://columbia.co.cr/</td>\n",
              "      <td>1.0</td>\n",
              "      <td>Columbia</td>\n",
              "      <td>Jafet Soto \"Traían una estrategia de meter un ...</td>\n",
              "      <td>El técnico del Club Sport Herediano, Jafet Sot...</td>\n",
              "      <td>news</td>\n",
              "      <td>Jafet Soto \"They brought a strategy to score a...</td>\n",
              "      <td>The coach of Club Sport Herediano, Jafet Soto ...</td>\n",
              "    </tr>\n",
              "    <tr>\n",
              "      <th>4</th>\n",
              "      <td>http://columbia.co.cr/index.php/deportes/futbo...</td>\n",
              "      <td>http://columbia.co.cr/</td>\n",
              "      <td>1.0</td>\n",
              "      <td>Columbia</td>\n",
              "      <td>El Waterhouse deja fuera al Herediano en los p...</td>\n",
              "      <td>El Club Sport Herediano y el Waterhouse defini...</td>\n",
              "      <td>news</td>\n",
              "      <td>Waterhouse leaves out the Herediano on penalties</td>\n",
              "      <td>The Club Sport Herediano and Waterhouse series...</td>\n",
              "    </tr>\n",
              "  </tbody>\n",
              "</table>\n",
              "</div>"
            ],
            "text/plain": [
              "                                          URLNoticia  ...                                        TextoIngles\n",
              "0  http://columbia.co.cr/index.php/reportajes/esp...  ...  Editorial details Faces of Unemployment detail...\n",
              "1  http://columbia.co.cr/index.php/reportajes/esp...  ...  Alejandro Arley Details Down to the moon detai...\n",
              "2  http://columbia.co.cr/index.php/noticias/inter...  ...  Caracas, Aug 30 (EFE) .- Today, for the first ...\n",
              "3  http://columbia.co.cr/index.php/deportes/futbo...  ...  The coach of Club Sport Herediano, Jafet Soto ...\n",
              "4  http://columbia.co.cr/index.php/deportes/futbo...  ...  The Club Sport Herediano and Waterhouse series...\n",
              "\n",
              "[5 rows x 9 columns]"
            ]
          },
          "metadata": {
            "tags": []
          },
          "execution_count": 445
        }
      ]
    },
    {
      "cell_type": "markdown",
      "metadata": {
        "id": "dyf4brj2XEXH",
        "colab_type": "text"
      },
      "source": [
        "##Lowercasing"
      ]
    },
    {
      "cell_type": "code",
      "metadata": {
        "id": "kE1UBrRbQG5p",
        "colab_type": "code",
        "colab": {
          "base_uri": "https://localhost:8080/",
          "height": 105
        },
        "outputId": "f6b47e8f-c97d-41b3-e6fe-4c0114237b13"
      },
      "source": [
        "import nltk\n",
        "from nltk.tokenize import word_tokenize\n",
        "nltk.download('stopwords')\n",
        "nltk.download('punkt')\n"
      ],
      "execution_count": null,
      "outputs": [
        {
          "output_type": "stream",
          "text": [
            "[nltk_data] Downloading package stopwords to /root/nltk_data...\n",
            "[nltk_data]   Package stopwords is already up-to-date!\n",
            "[nltk_data] Downloading package punkt to /root/nltk_data...\n",
            "[nltk_data]   Package punkt is already up-to-date!\n"
          ],
          "name": "stdout"
        },
        {
          "output_type": "execute_result",
          "data": {
            "text/plain": [
              "True"
            ]
          },
          "metadata": {
            "tags": []
          },
          "execution_count": 446
        }
      ]
    },
    {
      "cell_type": "code",
      "metadata": {
        "id": "D5P4bldPV7M6",
        "colab_type": "code",
        "colab": {
          "base_uri": "https://localhost:8080/",
          "height": 281
        },
        "outputId": "260c8d63-c339-4283-d0b8-e6eeabb0a543"
      },
      "source": [
        "df2 = df.apply(lambda x: x.astype(str).str.lower())\n",
        "df2.head()"
      ],
      "execution_count": null,
      "outputs": [
        {
          "output_type": "execute_result",
          "data": {
            "text/html": [
              "<div>\n",
              "<style scoped>\n",
              "    .dataframe tbody tr th:only-of-type {\n",
              "        vertical-align: middle;\n",
              "    }\n",
              "\n",
              "    .dataframe tbody tr th {\n",
              "        vertical-align: top;\n",
              "    }\n",
              "\n",
              "    .dataframe thead th {\n",
              "        text-align: right;\n",
              "    }\n",
              "</style>\n",
              "<table border=\"1\" class=\"dataframe\">\n",
              "  <thead>\n",
              "    <tr style=\"text-align: right;\">\n",
              "      <th></th>\n",
              "      <th>URLNoticia</th>\n",
              "      <th>Fuente</th>\n",
              "      <th>Clasificacion</th>\n",
              "      <th>MedioPeriodistico</th>\n",
              "      <th>Titulo</th>\n",
              "      <th>Texto</th>\n",
              "      <th>TipoSitio</th>\n",
              "      <th>TituloIngles</th>\n",
              "      <th>TextoIngles</th>\n",
              "    </tr>\n",
              "  </thead>\n",
              "  <tbody>\n",
              "    <tr>\n",
              "      <th>0</th>\n",
              "      <td>http://columbia.co.cr/index.php/reportajes/esp...</td>\n",
              "      <td>http://columbia.co.cr/</td>\n",
              "      <td>1.0</td>\n",
              "      <td>columbia</td>\n",
              "      <td>los rostros del desempleo</td>\n",
              "      <td>detalles redacción los rostros del desempleo d...</td>\n",
              "      <td>news</td>\n",
              "      <td>faces of unemployment</td>\n",
              "      <td>editorial details faces of unemployment detail...</td>\n",
              "    </tr>\n",
              "    <tr>\n",
              "      <th>1</th>\n",
              "      <td>http://columbia.co.cr/index.php/reportajes/esp...</td>\n",
              "      <td>http://columbia.co.cr/</td>\n",
              "      <td>1.0</td>\n",
              "      <td>columbia</td>\n",
              "      <td>con los pies en la luna</td>\n",
              "      <td>detalles alejandro arley con los pies en la lu...</td>\n",
              "      <td>news</td>\n",
              "      <td>with the feet on the moon</td>\n",
              "      <td>alejandro arley details down to the moon detai...</td>\n",
              "    </tr>\n",
              "    <tr>\n",
              "      <th>2</th>\n",
              "      <td>http://columbia.co.cr/index.php/noticias/inter...</td>\n",
              "      <td>http://columbia.co.cr/</td>\n",
              "      <td>1.0</td>\n",
              "      <td>columbia</td>\n",
              "      <td>el salario mínimo de venezuela toca suelo: 2 d...</td>\n",
              "      <td>caracas, 30 ago (efe).- hoy, por primera vez, ...</td>\n",
              "      <td>news</td>\n",
              "      <td>venezuela's minimum wage floor plays: $ 2</td>\n",
              "      <td>caracas, aug 30 (efe) .- today, for the first ...</td>\n",
              "    </tr>\n",
              "    <tr>\n",
              "      <th>3</th>\n",
              "      <td>http://columbia.co.cr/index.php/deportes/futbo...</td>\n",
              "      <td>http://columbia.co.cr/</td>\n",
              "      <td>1.0</td>\n",
              "      <td>columbia</td>\n",
              "      <td>jafet soto \"traían una estrategia de meter un ...</td>\n",
              "      <td>el técnico del club sport herediano, jafet sot...</td>\n",
              "      <td>news</td>\n",
              "      <td>jafet soto \"they brought a strategy to score a...</td>\n",
              "      <td>the coach of club sport herediano, jafet soto ...</td>\n",
              "    </tr>\n",
              "    <tr>\n",
              "      <th>4</th>\n",
              "      <td>http://columbia.co.cr/index.php/deportes/futbo...</td>\n",
              "      <td>http://columbia.co.cr/</td>\n",
              "      <td>1.0</td>\n",
              "      <td>columbia</td>\n",
              "      <td>el waterhouse deja fuera al herediano en los p...</td>\n",
              "      <td>el club sport herediano y el waterhouse defini...</td>\n",
              "      <td>news</td>\n",
              "      <td>waterhouse leaves out the herediano on penalties</td>\n",
              "      <td>the club sport herediano and waterhouse series...</td>\n",
              "    </tr>\n",
              "  </tbody>\n",
              "</table>\n",
              "</div>"
            ],
            "text/plain": [
              "                                          URLNoticia  ...                                        TextoIngles\n",
              "0  http://columbia.co.cr/index.php/reportajes/esp...  ...  editorial details faces of unemployment detail...\n",
              "1  http://columbia.co.cr/index.php/reportajes/esp...  ...  alejandro arley details down to the moon detai...\n",
              "2  http://columbia.co.cr/index.php/noticias/inter...  ...  caracas, aug 30 (efe) .- today, for the first ...\n",
              "3  http://columbia.co.cr/index.php/deportes/futbo...  ...  the coach of club sport herediano, jafet soto ...\n",
              "4  http://columbia.co.cr/index.php/deportes/futbo...  ...  the club sport herediano and waterhouse series...\n",
              "\n",
              "[5 rows x 9 columns]"
            ]
          },
          "metadata": {
            "tags": []
          },
          "execution_count": 447
        }
      ]
    },
    {
      "cell_type": "markdown",
      "metadata": {
        "id": "lD0M-2V5k1qc",
        "colab_type": "text"
      },
      "source": [
        "##Eliminación de Ruido - información geoespacial de la noticia"
      ]
    },
    {
      "cell_type": "code",
      "metadata": {
        "id": "-QliMCyfYp3V",
        "colab_type": "code",
        "colab": {}
      },
      "source": [
        "def eliminarTags(text):\n",
        "  #remueve san josé, 29 ago (elmundo.cr) san francisco (ee.uu.), 2 ago (efe).- san josé, 29 ago (elmundo.cr)- \n",
        "  return re.sub(\".*,? [0-9]{1,2} [a-z.]{3,4},?\\ \\(.*\\)?.-?|\\(afp\\)-?|.*,? ?[a-z.]{3,4} [0-9]{1,2},? \\(.*\\) \\ ?-?|redacción.|\\n\\n\",\" \",text)\n"
      ],
      "execution_count": null,
      "outputs": []
    },
    {
      "cell_type": "code",
      "metadata": {
        "id": "194D3-gTlxOp",
        "colab_type": "code",
        "colab": {
          "base_uri": "https://localhost:8080/",
          "height": 281
        },
        "outputId": "eb3ce575-16b8-4995-a31f-e0b48fa5cc17"
      },
      "source": [
        "df2['Texto'] = df2.apply(lambda row: eliminarTags(row['Texto']), axis=1)\n",
        "df2['TextoIngles'] = df2.apply(lambda row: eliminarTags(row['TextoIngles']), axis=1)\n",
        "df2.head()"
      ],
      "execution_count": null,
      "outputs": [
        {
          "output_type": "execute_result",
          "data": {
            "text/html": [
              "<div>\n",
              "<style scoped>\n",
              "    .dataframe tbody tr th:only-of-type {\n",
              "        vertical-align: middle;\n",
              "    }\n",
              "\n",
              "    .dataframe tbody tr th {\n",
              "        vertical-align: top;\n",
              "    }\n",
              "\n",
              "    .dataframe thead th {\n",
              "        text-align: right;\n",
              "    }\n",
              "</style>\n",
              "<table border=\"1\" class=\"dataframe\">\n",
              "  <thead>\n",
              "    <tr style=\"text-align: right;\">\n",
              "      <th></th>\n",
              "      <th>URLNoticia</th>\n",
              "      <th>Fuente</th>\n",
              "      <th>Clasificacion</th>\n",
              "      <th>MedioPeriodistico</th>\n",
              "      <th>Titulo</th>\n",
              "      <th>Texto</th>\n",
              "      <th>TipoSitio</th>\n",
              "      <th>TituloIngles</th>\n",
              "      <th>TextoIngles</th>\n",
              "    </tr>\n",
              "  </thead>\n",
              "  <tbody>\n",
              "    <tr>\n",
              "      <th>0</th>\n",
              "      <td>http://columbia.co.cr/index.php/reportajes/esp...</td>\n",
              "      <td>http://columbia.co.cr/</td>\n",
              "      <td>1.0</td>\n",
              "      <td>columbia</td>\n",
              "      <td>los rostros del desempleo</td>\n",
              "      <td>detalles  los rostros del desempleo detalles c...</td>\n",
              "      <td>news</td>\n",
              "      <td>faces of unemployment</td>\n",
              "      <td>editorial details faces of unemployment detail...</td>\n",
              "    </tr>\n",
              "    <tr>\n",
              "      <th>1</th>\n",
              "      <td>http://columbia.co.cr/index.php/reportajes/esp...</td>\n",
              "      <td>http://columbia.co.cr/</td>\n",
              "      <td>1.0</td>\n",
              "      <td>columbia</td>\n",
              "      <td>con los pies en la luna</td>\n",
              "      <td>detalles alejandro arley con los pies en la lu...</td>\n",
              "      <td>news</td>\n",
              "      <td>with the feet on the moon</td>\n",
              "      <td>alejandro arley details down to the moon detai...</td>\n",
              "    </tr>\n",
              "    <tr>\n",
              "      <th>2</th>\n",
              "      <td>http://columbia.co.cr/index.php/noticias/inter...</td>\n",
              "      <td>http://columbia.co.cr/</td>\n",
              "      <td>1.0</td>\n",
              "      <td>columbia</td>\n",
              "      <td>el salario mínimo de venezuela toca suelo: 2 d...</td>\n",
              "      <td>con el dólar estadounidense alrededor de los...</td>\n",
              "      <td>news</td>\n",
              "      <td>venezuela's minimum wage floor plays: $ 2</td>\n",
              "      <td>.- today, for the first time, millions of ven...</td>\n",
              "    </tr>\n",
              "    <tr>\n",
              "      <th>3</th>\n",
              "      <td>http://columbia.co.cr/index.php/deportes/futbo...</td>\n",
              "      <td>http://columbia.co.cr/</td>\n",
              "      <td>1.0</td>\n",
              "      <td>columbia</td>\n",
              "      <td>jafet soto \"traían una estrategia de meter un ...</td>\n",
              "      <td>el técnico del club sport herediano, jafet sot...</td>\n",
              "      <td>news</td>\n",
              "      <td>jafet soto \"they brought a strategy to score a...</td>\n",
              "      <td>the coach of club sport herediano, jafet soto ...</td>\n",
              "    </tr>\n",
              "    <tr>\n",
              "      <th>4</th>\n",
              "      <td>http://columbia.co.cr/index.php/deportes/futbo...</td>\n",
              "      <td>http://columbia.co.cr/</td>\n",
              "      <td>1.0</td>\n",
              "      <td>columbia</td>\n",
              "      <td>el waterhouse deja fuera al herediano en los p...</td>\n",
              "      <td>el club sport herediano y el waterhouse defini...</td>\n",
              "      <td>news</td>\n",
              "      <td>waterhouse leaves out the herediano on penalties</td>\n",
              "      <td>the club sport herediano and waterhouse series...</td>\n",
              "    </tr>\n",
              "  </tbody>\n",
              "</table>\n",
              "</div>"
            ],
            "text/plain": [
              "                                          URLNoticia  ...                                        TextoIngles\n",
              "0  http://columbia.co.cr/index.php/reportajes/esp...  ...  editorial details faces of unemployment detail...\n",
              "1  http://columbia.co.cr/index.php/reportajes/esp...  ...  alejandro arley details down to the moon detai...\n",
              "2  http://columbia.co.cr/index.php/noticias/inter...  ...   .- today, for the first time, millions of ven...\n",
              "3  http://columbia.co.cr/index.php/deportes/futbo...  ...  the coach of club sport herediano, jafet soto ...\n",
              "4  http://columbia.co.cr/index.php/deportes/futbo...  ...  the club sport herediano and waterhouse series...\n",
              "\n",
              "[5 rows x 9 columns]"
            ]
          },
          "metadata": {
            "tags": []
          },
          "execution_count": 449
        }
      ]
    },
    {
      "cell_type": "markdown",
      "metadata": {
        "id": "pIo14Q5jqcOp",
        "colab_type": "text"
      },
      "source": [
        "##Lematización"
      ]
    },
    {
      "cell_type": "code",
      "metadata": {
        "id": "y0oszDSpp-0i",
        "colab_type": "code",
        "colab": {
          "base_uri": "https://localhost:8080/",
          "height": 265
        },
        "outputId": "521f5a59-0ed5-4001-f9ea-6b629d8d0a5c"
      },
      "source": [
        "#pip install es-lemmatizer\n",
        "!python -m spacy download es\n",
        "!python -m spacy download en\n"
      ],
      "execution_count": null,
      "outputs": [
        {
          "output_type": "stream",
          "text": [
            "Requirement already satisfied: es_core_news_sm==2.1.0 from https://github.com/explosion/spacy-models/releases/download/es_core_news_sm-2.1.0/es_core_news_sm-2.1.0.tar.gz#egg=es_core_news_sm==2.1.0 in /usr/local/lib/python3.6/dist-packages (2.1.0)\n",
            "\u001b[38;5;2m✔ Download and installation successful\u001b[0m\n",
            "You can now load the model via spacy.load('es_core_news_sm')\n",
            "\u001b[38;5;2m✔ Linking successful\u001b[0m\n",
            "/usr/local/lib/python3.6/dist-packages/es_core_news_sm -->\n",
            "/usr/local/lib/python3.6/dist-packages/spacy/data/es\n",
            "You can now load the model via spacy.load('es')\n",
            "Requirement already satisfied: en_core_web_sm==2.1.0 from https://github.com/explosion/spacy-models/releases/download/en_core_web_sm-2.1.0/en_core_web_sm-2.1.0.tar.gz#egg=en_core_web_sm==2.1.0 in /usr/local/lib/python3.6/dist-packages (2.1.0)\n",
            "\u001b[38;5;2m✔ Download and installation successful\u001b[0m\n",
            "You can now load the model via spacy.load('en_core_web_sm')\n",
            "\u001b[38;5;2m✔ Linking successful\u001b[0m\n",
            "/usr/local/lib/python3.6/dist-packages/en_core_web_sm -->\n",
            "/usr/local/lib/python3.6/dist-packages/spacy/data/en\n",
            "You can now load the model via spacy.load('en')\n"
          ],
          "name": "stdout"
        }
      ]
    },
    {
      "cell_type": "code",
      "metadata": {
        "id": "bJwwCarSoYVz",
        "colab_type": "code",
        "colab": {}
      },
      "source": [
        "from es_lemmatizer import lemmatize\n",
        "import spacy"
      ],
      "execution_count": null,
      "outputs": []
    },
    {
      "cell_type": "code",
      "metadata": {
        "id": "VpHUBbE1tMUw",
        "colab_type": "code",
        "colab": {}
      },
      "source": [
        "nlp_espannol = spacy.load(\"es\")\n",
        "nlp_ingles = spacy.load(\"en\")"
      ],
      "execution_count": null,
      "outputs": []
    },
    {
      "cell_type": "code",
      "metadata": {
        "id": "RlUP2RjFod5i",
        "colab_type": "code",
        "colab": {}
      },
      "source": [
        "text1 = \"Con estos fines, la Dirección de Gestión y Control Financiero monitorea la posición de capital del Banco y utiliza los mecanismos para hacer un eficiente manejo del capital.\"\n",
        "def lematizar(texto,npl):\n",
        "  lemas = []\n",
        "  text = []\n",
        "  for token in nlp(texto): \n",
        "    lemas.append(token.lemma_)\n",
        "    text.append(token.text)\n",
        "      #print(token.text, token.lemma_, token.pos_)\n",
        "  return lemas"
      ],
      "execution_count": null,
      "outputs": []
    },
    {
      "cell_type": "code",
      "metadata": {
        "id": "wWWAy0gPHEvd",
        "colab_type": "code",
        "colab": {}
      },
      "source": [
        "#lematizar(text1,nlp_espannol)\n",
        "#doc = nlp_espannol(text1)\n",
        "#for att in dir(doc):\n",
        "#    print (att, getattr(doc,att))"
      ],
      "execution_count": null,
      "outputs": []
    },
    {
      "cell_type": "code",
      "metadata": {
        "id": "G9DylxFJqafG",
        "colab_type": "code",
        "colab": {}
      },
      "source": [
        "def lemmatize_verbs(words):\n",
        "    \"\"\"Lemmatize verbs in list of tokenized words\"\"\"\n",
        "    lemmatizer = WordNetLemmatizer()\n",
        "    lemmas = []\n",
        "    for word in words:\n",
        "        lemma = lemmatizer.lemmatize(word, pos='v')\n",
        "        lemmas.append(lemma)\n",
        "    return lemmas"
      ],
      "execution_count": null,
      "outputs": []
    },
    {
      "cell_type": "code",
      "metadata": {
        "id": "GFg2IR6YzLkc",
        "colab_type": "code",
        "colab": {}
      },
      "source": [
        "df2['textoLematizadoIngles'] = df2.apply(lambda row: lematizar(row['TextoIngles'],nlp_ingles), axis=1)\n",
        "df2['textoLematizado'] = df2.apply(lambda row: lematizar(row['Texto'],nlp_espannol), axis=1)"
      ],
      "execution_count": null,
      "outputs": []
    },
    {
      "cell_type": "code",
      "metadata": {
        "id": "P9c0o9b02Nav",
        "colab_type": "code",
        "colab": {
          "base_uri": "https://localhost:8080/",
          "height": 297
        },
        "outputId": "77c55cad-0f74-4c2b-e2fe-18ce89c7632e"
      },
      "source": [
        "df2.head()"
      ],
      "execution_count": null,
      "outputs": [
        {
          "output_type": "execute_result",
          "data": {
            "text/html": [
              "<div>\n",
              "<style scoped>\n",
              "    .dataframe tbody tr th:only-of-type {\n",
              "        vertical-align: middle;\n",
              "    }\n",
              "\n",
              "    .dataframe tbody tr th {\n",
              "        vertical-align: top;\n",
              "    }\n",
              "\n",
              "    .dataframe thead th {\n",
              "        text-align: right;\n",
              "    }\n",
              "</style>\n",
              "<table border=\"1\" class=\"dataframe\">\n",
              "  <thead>\n",
              "    <tr style=\"text-align: right;\">\n",
              "      <th></th>\n",
              "      <th>URLNoticia</th>\n",
              "      <th>Fuente</th>\n",
              "      <th>Clasificacion</th>\n",
              "      <th>MedioPeriodistico</th>\n",
              "      <th>Titulo</th>\n",
              "      <th>Texto</th>\n",
              "      <th>TipoSitio</th>\n",
              "      <th>TituloIngles</th>\n",
              "      <th>TextoIngles</th>\n",
              "      <th>textoLematizadoIngles</th>\n",
              "      <th>textoLematizado</th>\n",
              "    </tr>\n",
              "  </thead>\n",
              "  <tbody>\n",
              "    <tr>\n",
              "      <th>0</th>\n",
              "      <td>http://columbia.co.cr/index.php/reportajes/esp...</td>\n",
              "      <td>http://columbia.co.cr/</td>\n",
              "      <td>1.0</td>\n",
              "      <td>columbia</td>\n",
              "      <td>los rostros del desempleo</td>\n",
              "      <td>detalles  los rostros del desempleo detalles c...</td>\n",
              "      <td>news</td>\n",
              "      <td>faces of unemployment</td>\n",
              "      <td>editorial details faces of unemployment detail...</td>\n",
              "      <td>[editorial, details, faz, of, unemployment, de...</td>\n",
              "      <td>[detalle,  , lo, rostro, del, desempleo, detal...</td>\n",
              "    </tr>\n",
              "    <tr>\n",
              "      <th>1</th>\n",
              "      <td>http://columbia.co.cr/index.php/reportajes/esp...</td>\n",
              "      <td>http://columbia.co.cr/</td>\n",
              "      <td>1.0</td>\n",
              "      <td>columbia</td>\n",
              "      <td>con los pies en la luna</td>\n",
              "      <td>detalles alejandro arley con los pies en la lu...</td>\n",
              "      <td>news</td>\n",
              "      <td>with the feet on the moon</td>\n",
              "      <td>alejandro arley details down to the moon detai...</td>\n",
              "      <td>[alejandro, arley, details, down, to, the, moo...</td>\n",
              "      <td>[detalle, alejandro, arley, con, lo, pie, en, ...</td>\n",
              "    </tr>\n",
              "    <tr>\n",
              "      <th>2</th>\n",
              "      <td>http://columbia.co.cr/index.php/noticias/inter...</td>\n",
              "      <td>http://columbia.co.cr/</td>\n",
              "      <td>1.0</td>\n",
              "      <td>columbia</td>\n",
              "      <td>el salario mínimo de venezuela toca suelo: 2 d...</td>\n",
              "      <td>con el dólar estadounidense alrededor de los...</td>\n",
              "      <td>news</td>\n",
              "      <td>venezuela's minimum wage floor plays: $ 2</td>\n",
              "      <td>.- today, for the first time, millions of ven...</td>\n",
              "      <td>[ , .-, today, ,, for, the, first, timar, ,, m...</td>\n",
              "      <td>[  , con, el, dólar, estadounidense, alrededor...</td>\n",
              "    </tr>\n",
              "    <tr>\n",
              "      <th>3</th>\n",
              "      <td>http://columbia.co.cr/index.php/deportes/futbo...</td>\n",
              "      <td>http://columbia.co.cr/</td>\n",
              "      <td>1.0</td>\n",
              "      <td>columbia</td>\n",
              "      <td>jafet soto \"traían una estrategia de meter un ...</td>\n",
              "      <td>el técnico del club sport herediano, jafet sot...</td>\n",
              "      <td>news</td>\n",
              "      <td>jafet soto \"they brought a strategy to score a...</td>\n",
              "      <td>the coach of club sport herediano, jafet soto ...</td>\n",
              "      <td>[the, coach, of, club, sport, herediano, ,, ja...</td>\n",
              "      <td>[el, técnico, del, club, sport, herediano, ,, ...</td>\n",
              "    </tr>\n",
              "    <tr>\n",
              "      <th>4</th>\n",
              "      <td>http://columbia.co.cr/index.php/deportes/futbo...</td>\n",
              "      <td>http://columbia.co.cr/</td>\n",
              "      <td>1.0</td>\n",
              "      <td>columbia</td>\n",
              "      <td>el waterhouse deja fuera al herediano en los p...</td>\n",
              "      <td>el club sport herediano y el waterhouse defini...</td>\n",
              "      <td>news</td>\n",
              "      <td>waterhouse leaves out the herediano on penalties</td>\n",
              "      <td>the club sport herediano and waterhouse series...</td>\n",
              "      <td>[the, club, sport, herediano, and, waterhouse,...</td>\n",
              "      <td>[el, club, sport, herediano, y, el, waterhouse...</td>\n",
              "    </tr>\n",
              "  </tbody>\n",
              "</table>\n",
              "</div>"
            ],
            "text/plain": [
              "                                          URLNoticia  ...                                    textoLematizado\n",
              "0  http://columbia.co.cr/index.php/reportajes/esp...  ...  [detalle,  , lo, rostro, del, desempleo, detal...\n",
              "1  http://columbia.co.cr/index.php/reportajes/esp...  ...  [detalle, alejandro, arley, con, lo, pie, en, ...\n",
              "2  http://columbia.co.cr/index.php/noticias/inter...  ...  [  , con, el, dólar, estadounidense, alrededor...\n",
              "3  http://columbia.co.cr/index.php/deportes/futbo...  ...  [el, técnico, del, club, sport, herediano, ,, ...\n",
              "4  http://columbia.co.cr/index.php/deportes/futbo...  ...  [el, club, sport, herediano, y, el, waterhouse...\n",
              "\n",
              "[5 rows x 11 columns]"
            ]
          },
          "metadata": {
            "tags": []
          },
          "execution_count": 457
        }
      ]
    },
    {
      "cell_type": "markdown",
      "metadata": {
        "id": "Ld4JbGLsZKN-",
        "colab_type": "text"
      },
      "source": [
        "##Tokenizar noticias"
      ]
    },
    {
      "cell_type": "code",
      "metadata": {
        "id": "ni5klrZSZ9T-",
        "colab_type": "code",
        "colab": {}
      },
      "source": [
        "#noticias_ingles = df2.TextoIngles.str.cat(sep=' ')\n",
        "#function to split text into word\n",
        "#tokens_ingles = word_tokenize(noticias_ingles)\n",
        "#tokens_ingles_2=[token.lower() for token in tokens_ingles if token.isalpha()] # remueve los signos de puntuación y números\n",
        "#vocabulario_ingles = set(tokens_ingles)\n",
        "#print(len(vocabulario_ingles))"
      ],
      "execution_count": null,
      "outputs": []
    },
    {
      "cell_type": "code",
      "metadata": {
        "id": "UOPTtWHyaV6N",
        "colab_type": "code",
        "colab": {}
      },
      "source": [
        "#noticias_espannol = df2.Texto.str.cat(sep=' ')\n",
        "#function to split text into word\n",
        "#tokens_espannol = word_tokenize(noticias_espannol)\n",
        "#vocabulario_espannol = set(tokens_espannol)\n",
        "#print(len(vocabulario_espannol))"
      ],
      "execution_count": null,
      "outputs": []
    },
    {
      "cell_type": "markdown",
      "metadata": {
        "id": "EAAcN4mng7HS",
        "colab_type": "text"
      },
      "source": [
        "###Tokenización del dataset"
      ]
    },
    {
      "cell_type": "code",
      "metadata": {
        "id": "s6aP0Oiqf3EL",
        "colab_type": "code",
        "colab": {
          "base_uri": "https://localhost:8080/",
          "height": 381
        },
        "outputId": "2a1c7729-815e-4a58-9444-9448937da130"
      },
      "source": [
        "#Se tokeniza cel texto de cada noticia en español por separado y se almacena en una nueva variable\n",
        "df2['textoTokenizado'] = df2.apply(lambda row: nltk.word_tokenize(row['Texto']), axis=1)\n",
        "#Se tokeniza cel texto de cada noticia en ingles por separado y se almacena en una nueva variable\n",
        "df2['textoTokenizadoIngles'] = df2.apply(lambda row: nltk.word_tokenize(row['TextoIngles']), axis=1)\n",
        "df2.head()"
      ],
      "execution_count": null,
      "outputs": [
        {
          "output_type": "execute_result",
          "data": {
            "text/html": [
              "<div>\n",
              "<style scoped>\n",
              "    .dataframe tbody tr th:only-of-type {\n",
              "        vertical-align: middle;\n",
              "    }\n",
              "\n",
              "    .dataframe tbody tr th {\n",
              "        vertical-align: top;\n",
              "    }\n",
              "\n",
              "    .dataframe thead th {\n",
              "        text-align: right;\n",
              "    }\n",
              "</style>\n",
              "<table border=\"1\" class=\"dataframe\">\n",
              "  <thead>\n",
              "    <tr style=\"text-align: right;\">\n",
              "      <th></th>\n",
              "      <th>URLNoticia</th>\n",
              "      <th>Fuente</th>\n",
              "      <th>Clasificacion</th>\n",
              "      <th>MedioPeriodistico</th>\n",
              "      <th>Titulo</th>\n",
              "      <th>Texto</th>\n",
              "      <th>TipoSitio</th>\n",
              "      <th>TituloIngles</th>\n",
              "      <th>TextoIngles</th>\n",
              "      <th>textoLematizadoIngles</th>\n",
              "      <th>textoLematizado</th>\n",
              "      <th>textoTokenizado</th>\n",
              "      <th>textoTokenizadoIngles</th>\n",
              "    </tr>\n",
              "  </thead>\n",
              "  <tbody>\n",
              "    <tr>\n",
              "      <th>0</th>\n",
              "      <td>http://columbia.co.cr/index.php/reportajes/esp...</td>\n",
              "      <td>http://columbia.co.cr/</td>\n",
              "      <td>1.0</td>\n",
              "      <td>columbia</td>\n",
              "      <td>los rostros del desempleo</td>\n",
              "      <td>detalles  los rostros del desempleo detalles c...</td>\n",
              "      <td>news</td>\n",
              "      <td>faces of unemployment</td>\n",
              "      <td>editorial details faces of unemployment detail...</td>\n",
              "      <td>[editorial, details, faz, of, unemployment, de...</td>\n",
              "      <td>[detalle,  , lo, rostro, del, desempleo, detal...</td>\n",
              "      <td>[detalles, los, rostros, del, desempleo, detal...</td>\n",
              "      <td>[editorial, details, faces, of, unemployment, ...</td>\n",
              "    </tr>\n",
              "    <tr>\n",
              "      <th>1</th>\n",
              "      <td>http://columbia.co.cr/index.php/reportajes/esp...</td>\n",
              "      <td>http://columbia.co.cr/</td>\n",
              "      <td>1.0</td>\n",
              "      <td>columbia</td>\n",
              "      <td>con los pies en la luna</td>\n",
              "      <td>detalles alejandro arley con los pies en la lu...</td>\n",
              "      <td>news</td>\n",
              "      <td>with the feet on the moon</td>\n",
              "      <td>alejandro arley details down to the moon detai...</td>\n",
              "      <td>[alejandro, arley, details, down, to, the, moo...</td>\n",
              "      <td>[detalle, alejandro, arley, con, lo, pie, en, ...</td>\n",
              "      <td>[detalles, alejandro, arley, con, los, pies, e...</td>\n",
              "      <td>[alejandro, arley, details, down, to, the, moo...</td>\n",
              "    </tr>\n",
              "    <tr>\n",
              "      <th>2</th>\n",
              "      <td>http://columbia.co.cr/index.php/noticias/inter...</td>\n",
              "      <td>http://columbia.co.cr/</td>\n",
              "      <td>1.0</td>\n",
              "      <td>columbia</td>\n",
              "      <td>el salario mínimo de venezuela toca suelo: 2 d...</td>\n",
              "      <td>con el dólar estadounidense alrededor de los...</td>\n",
              "      <td>news</td>\n",
              "      <td>venezuela's minimum wage floor plays: $ 2</td>\n",
              "      <td>.- today, for the first time, millions of ven...</td>\n",
              "      <td>[ , .-, today, ,, for, the, first, timar, ,, m...</td>\n",
              "      <td>[  , con, el, dólar, estadounidense, alrededor...</td>\n",
              "      <td>[con, el, dólar, estadounidense, alrededor, de...</td>\n",
              "      <td>[.-, today, ,, for, the, first, time, ,, milli...</td>\n",
              "    </tr>\n",
              "    <tr>\n",
              "      <th>3</th>\n",
              "      <td>http://columbia.co.cr/index.php/deportes/futbo...</td>\n",
              "      <td>http://columbia.co.cr/</td>\n",
              "      <td>1.0</td>\n",
              "      <td>columbia</td>\n",
              "      <td>jafet soto \"traían una estrategia de meter un ...</td>\n",
              "      <td>el técnico del club sport herediano, jafet sot...</td>\n",
              "      <td>news</td>\n",
              "      <td>jafet soto \"they brought a strategy to score a...</td>\n",
              "      <td>the coach of club sport herediano, jafet soto ...</td>\n",
              "      <td>[the, coach, of, club, sport, herediano, ,, ja...</td>\n",
              "      <td>[el, técnico, del, club, sport, herediano, ,, ...</td>\n",
              "      <td>[el, técnico, del, club, sport, herediano, ,, ...</td>\n",
              "      <td>[the, coach, of, club, sport, herediano, ,, ja...</td>\n",
              "    </tr>\n",
              "    <tr>\n",
              "      <th>4</th>\n",
              "      <td>http://columbia.co.cr/index.php/deportes/futbo...</td>\n",
              "      <td>http://columbia.co.cr/</td>\n",
              "      <td>1.0</td>\n",
              "      <td>columbia</td>\n",
              "      <td>el waterhouse deja fuera al herediano en los p...</td>\n",
              "      <td>el club sport herediano y el waterhouse defini...</td>\n",
              "      <td>news</td>\n",
              "      <td>waterhouse leaves out the herediano on penalties</td>\n",
              "      <td>the club sport herediano and waterhouse series...</td>\n",
              "      <td>[the, club, sport, herediano, and, waterhouse,...</td>\n",
              "      <td>[el, club, sport, herediano, y, el, waterhouse...</td>\n",
              "      <td>[el, club, sport, herediano, y, el, waterhouse...</td>\n",
              "      <td>[the, club, sport, herediano, and, waterhouse,...</td>\n",
              "    </tr>\n",
              "  </tbody>\n",
              "</table>\n",
              "</div>"
            ],
            "text/plain": [
              "                                          URLNoticia  ...                              textoTokenizadoIngles\n",
              "0  http://columbia.co.cr/index.php/reportajes/esp...  ...  [editorial, details, faces, of, unemployment, ...\n",
              "1  http://columbia.co.cr/index.php/reportajes/esp...  ...  [alejandro, arley, details, down, to, the, moo...\n",
              "2  http://columbia.co.cr/index.php/noticias/inter...  ...  [.-, today, ,, for, the, first, time, ,, milli...\n",
              "3  http://columbia.co.cr/index.php/deportes/futbo...  ...  [the, coach, of, club, sport, herediano, ,, ja...\n",
              "4  http://columbia.co.cr/index.php/deportes/futbo...  ...  [the, club, sport, herediano, and, waterhouse,...\n",
              "\n",
              "[5 rows x 13 columns]"
            ]
          },
          "metadata": {
            "tags": []
          },
          "execution_count": 460
        }
      ]
    },
    {
      "cell_type": "code",
      "metadata": {
        "id": "tKik8yEna7ez",
        "colab_type": "code",
        "colab": {}
      },
      "source": [
        "#frequency_dist_espannol = nltk.FreqDist(tokens_espannol)\n",
        "#sorted(frequency_dist_espannol,key=frequency_dist_espannol.__getitem__, reverse=True)[0:50]"
      ],
      "execution_count": null,
      "outputs": []
    },
    {
      "cell_type": "markdown",
      "metadata": {
        "id": "RShLvnotXNSf",
        "colab_type": "text"
      },
      "source": [
        "##Eliminación de Stop Words"
      ]
    },
    {
      "cell_type": "code",
      "metadata": {
        "id": "jfzoh10PXM15",
        "colab_type": "code",
        "colab": {}
      },
      "source": [
        "from nltk.corpus import stopwords"
      ],
      "execution_count": null,
      "outputs": []
    },
    {
      "cell_type": "code",
      "metadata": {
        "id": "O73OVP-YXk0L",
        "colab_type": "code",
        "colab": {}
      },
      "source": [
        "#stop_words_ingles = set(stopwords.words('english'))\n",
        "#stop_words_espannol = set(stopwords.words('spanish'))\n",
        "#stop_words_ingles\n",
        "#stop_words_espannol"
      ],
      "execution_count": null,
      "outputs": []
    },
    {
      "cell_type": "code",
      "metadata": {
        "id": "o8bEJug5hNlB",
        "colab_type": "code",
        "colab": {}
      },
      "source": [
        "def removerStopWords(tokens, stopwords):\n",
        "  return [w for w in tokens if not w in stopwords]  "
      ],
      "execution_count": null,
      "outputs": []
    },
    {
      "cell_type": "markdown",
      "metadata": {
        "id": "sy20i6-SVqN9",
        "colab_type": "text"
      },
      "source": [
        "Construir lista de stop words propios"
      ]
    },
    {
      "cell_type": "code",
      "metadata": {
        "id": "NIn_sdI2h0q4",
        "colab_type": "code",
        "colab": {}
      },
      "source": [
        "#df2['textoTokenizadoIngles'] = df2.apply(lambda row: removerStopWords(row['textoTokenizadoIngles'],stop_words_ingles), axis=1)\n",
        "#df2['textoTokenizado'] = df2.apply(lambda row: removerStopWords(row['textoTokenizado'],stop_words_espannol), axis=1)\n",
        "#df2.head()"
      ],
      "execution_count": null,
      "outputs": []
    },
    {
      "cell_type": "code",
      "metadata": {
        "id": "3wNNENTZb43c",
        "colab_type": "code",
        "colab": {}
      },
      "source": [
        "tokens_espannol_sin_stop_words = [w for w in tokens_espannol if not w in stop_words_espannol]\n",
        "tokens_ingles_sin_stop_words = [w for w in tokens_ingles if not w in stop_words_ingles]\n",
        "tokens_ingles_sin_stop_words_v2 = [w for w in tokens_ingles_2 if not w in stop_words_ingles]\n",
        "tokens_ingles_sin_stop_words_v3 = removerStopWords(tokens_ingles_2,stop_words_ingles)"
      ],
      "execution_count": null,
      "outputs": []
    },
    {
      "cell_type": "markdown",
      "metadata": {
        "id": "JAPZ-o9kMTvW",
        "colab_type": "text"
      },
      "source": [
        "##Eliminación de ruido incluyendo caracteres  / Este paso no se ha aplicado\n"
      ]
    },
    {
      "cell_type": "code",
      "metadata": {
        "id": "A8N29PkHk5d8",
        "colab_type": "code",
        "colab": {}
      },
      "source": [
        "def removerSignosPuntuacion(text):\n",
        "    \"\"\"Basic cleaning of texts.\"\"\"\n",
        "    \n",
        "    # remove html markup\n",
        "    text=re.sub(\"(<.*?>)\",\"\",text)\n",
        "    \n",
        "    #remove non-ascii and digits\n",
        "    text=re.sub(\"(\\\\W|\\\\d)\",\" \",text)   \n",
        "\n",
        "    #text=text.strip()\n",
        "    return text"
      ],
      "execution_count": null,
      "outputs": []
    },
    {
      "cell_type": "code",
      "metadata": {
        "id": "Srzxis6-mlH-",
        "colab_type": "code",
        "colab": {}
      },
      "source": [
        "def eliminarRuido(tokens):\n",
        "  return [removerSignosPuntuacion(w) for w in tokens]"
      ],
      "execution_count": null,
      "outputs": []
    },
    {
      "cell_type": "markdown",
      "metadata": {
        "id": "3w-T8YjZjkDx",
        "colab_type": "text"
      },
      "source": [
        "##Stemming o Derivación \n",
        "Cambiarlo por lematización"
      ]
    },
    {
      "cell_type": "code",
      "metadata": {
        "id": "uDykzHjTjt33",
        "colab_type": "code",
        "colab": {}
      },
      "source": [
        "from nltk.stem import PorterStemmer\n",
        "from nltk.stem import SnowballStemmer\n",
        "porter_stemmer=PorterStemmer()\n",
        "stemmer_espannol = SnowballStemmer('spanish')\n",
        "stemmer_ingles = SnowballStemmer('english')\n"
      ],
      "execution_count": null,
      "outputs": []
    },
    {
      "cell_type": "code",
      "metadata": {
        "id": "kOCSqpXtjfm2",
        "colab_type": "code",
        "colab": {}
      },
      "source": [
        "def derivarTexto(words, stemmer):\n",
        "  return [stemmer.stem(word=word) for word in words]"
      ],
      "execution_count": null,
      "outputs": []
    },
    {
      "cell_type": "code",
      "metadata": {
        "id": "D3qH_f3ej7lJ",
        "colab_type": "code",
        "colab": {}
      },
      "source": [
        "#df2['textoTokenizadoInglesStem'] = df2.apply(lambda row: derivarTexto(row['textoTokenizadoIngles'],stemmer_ingles), axis=1)\n",
        "#df2['textoTokenizadoStem'] = df2.apply(lambda row: derivarTexto(row['textoTokenizado'],stemmer_espannol), axis=1)\n",
        "#df2.head()"
      ],
      "execution_count": null,
      "outputs": []
    },
    {
      "cell_type": "code",
      "metadata": {
        "id": "tJRpUH5hcU5_",
        "colab_type": "code",
        "colab": {}
      },
      "source": [
        "#frequency_dist_ingles = nltk.FreqDist(tokens_ingles_sin_stop_words_v2)\n",
        "#sorted(frequency_dist_ingles,key=frequency_dist_ingles.__getitem__, reverse=True)[0:50]"
      ],
      "execution_count": null,
      "outputs": []
    },
    {
      "cell_type": "code",
      "metadata": {
        "id": "VntAcERXpzE4",
        "colab_type": "code",
        "colab": {}
      },
      "source": [
        "def removeSpecialChar(text):\n",
        "  return re.sub(\"\\[|\\]|,|\\'|\\.|\\$|\\¢|\\&|\\#|\\\"|\\x97|\\x96|\\x95|\\x85|\\x94|\\x93|\\:|\\x92\\|\\ufeff1|\\@\", \"\",text)"
      ],
      "execution_count": null,
      "outputs": []
    },
    {
      "cell_type": "code",
      "metadata": {
        "id": "IW0eyD_VSGIj",
        "colab_type": "code",
        "colab": {}
      },
      "source": [
        "df2 = df2.astype(str)"
      ],
      "execution_count": null,
      "outputs": []
    },
    {
      "cell_type": "code",
      "metadata": {
        "id": "OyonE2ZGnpwi",
        "colab_type": "code",
        "colab": {
          "base_uri": "https://localhost:8080/",
          "height": 551
        },
        "outputId": "71a7cb6b-d4ea-4d47-b002-c7dfb64ab023"
      },
      "source": [
        "df2['textoPreprocesadoIngles'] = df2.apply(lambda row: removeSpecialChar(row['textoLematizadoIngles']), axis=1)\n",
        "df2['textoPreprocesado'] = df2.apply(lambda row: removeSpecialChar(row['textoLematizado']), axis=1)\n",
        "df2.head()"
      ],
      "execution_count": null,
      "outputs": [
        {
          "output_type": "execute_result",
          "data": {
            "text/html": [
              "<div>\n",
              "<style scoped>\n",
              "    .dataframe tbody tr th:only-of-type {\n",
              "        vertical-align: middle;\n",
              "    }\n",
              "\n",
              "    .dataframe tbody tr th {\n",
              "        vertical-align: top;\n",
              "    }\n",
              "\n",
              "    .dataframe thead th {\n",
              "        text-align: right;\n",
              "    }\n",
              "</style>\n",
              "<table border=\"1\" class=\"dataframe\">\n",
              "  <thead>\n",
              "    <tr style=\"text-align: right;\">\n",
              "      <th></th>\n",
              "      <th>URLNoticia</th>\n",
              "      <th>Fuente</th>\n",
              "      <th>Clasificacion</th>\n",
              "      <th>MedioPeriodistico</th>\n",
              "      <th>Titulo</th>\n",
              "      <th>Texto</th>\n",
              "      <th>TipoSitio</th>\n",
              "      <th>TituloIngles</th>\n",
              "      <th>TextoIngles</th>\n",
              "      <th>textoLematizadoIngles</th>\n",
              "      <th>textoLematizado</th>\n",
              "      <th>textoTokenizado</th>\n",
              "      <th>textoTokenizadoIngles</th>\n",
              "      <th>textoPreprocesadoIngles</th>\n",
              "      <th>textoPreprocesado</th>\n",
              "    </tr>\n",
              "  </thead>\n",
              "  <tbody>\n",
              "    <tr>\n",
              "      <th>0</th>\n",
              "      <td>http://columbia.co.cr/index.php/reportajes/esp...</td>\n",
              "      <td>http://columbia.co.cr/</td>\n",
              "      <td>1.0</td>\n",
              "      <td>columbia</td>\n",
              "      <td>los rostros del desempleo</td>\n",
              "      <td>detalles  los rostros del desempleo detalles c...</td>\n",
              "      <td>news</td>\n",
              "      <td>faces of unemployment</td>\n",
              "      <td>editorial details faces of unemployment detail...</td>\n",
              "      <td>['editorial', 'details', 'faz', 'of', 'unemplo...</td>\n",
              "      <td>['detalle', ' ', 'lo', 'rostro', 'del', 'desem...</td>\n",
              "      <td>['detalles', 'los', 'rostros', 'del', 'desempl...</td>\n",
              "      <td>['editorial', 'details', 'faces', 'of', 'unemp...</td>\n",
              "      <td>editorial details faz of unemployment details ...</td>\n",
              "      <td>detalle   lo rostro del desempleo detalle crea...</td>\n",
              "    </tr>\n",
              "    <tr>\n",
              "      <th>1</th>\n",
              "      <td>http://columbia.co.cr/index.php/reportajes/esp...</td>\n",
              "      <td>http://columbia.co.cr/</td>\n",
              "      <td>1.0</td>\n",
              "      <td>columbia</td>\n",
              "      <td>con los pies en la luna</td>\n",
              "      <td>detalles alejandro arley con los pies en la lu...</td>\n",
              "      <td>news</td>\n",
              "      <td>with the feet on the moon</td>\n",
              "      <td>alejandro arley details down to the moon detai...</td>\n",
              "      <td>['alejandro', 'arley', 'details', 'down', 'to'...</td>\n",
              "      <td>['detalle', 'alejandro', 'arley', 'con', 'lo',...</td>\n",
              "      <td>['detalles', 'alejandro', 'arley', 'con', 'los...</td>\n",
              "      <td>['alejandro', 'arley', 'details', 'down', 'to'...</td>\n",
              "      <td>alejandro arley details down to the moon detai...</td>\n",
              "      <td>detalle alejandro arley con lo pie en lo luna ...</td>\n",
              "    </tr>\n",
              "    <tr>\n",
              "      <th>2</th>\n",
              "      <td>http://columbia.co.cr/index.php/noticias/inter...</td>\n",
              "      <td>http://columbia.co.cr/</td>\n",
              "      <td>1.0</td>\n",
              "      <td>columbia</td>\n",
              "      <td>el salario mínimo de venezuela toca suelo: 2 d...</td>\n",
              "      <td>con el dólar estadounidense alrededor de los...</td>\n",
              "      <td>news</td>\n",
              "      <td>venezuela's minimum wage floor plays: $ 2</td>\n",
              "      <td>.- today, for the first time, millions of ven...</td>\n",
              "      <td>[' ', '.-', 'today', ',', 'for', 'the', 'first...</td>\n",
              "      <td>['  ', 'con', 'el', 'dólar', 'estadounidense',...</td>\n",
              "      <td>['con', 'el', 'dólar', 'estadounidense', 'alre...</td>\n",
              "      <td>['.-', 'today', ',', 'for', 'the', 'first', 't...</td>\n",
              "      <td>- today  for the first timar  millions of ve...</td>\n",
              "      <td>con el dólar estadounidense alrededor de lo...</td>\n",
              "    </tr>\n",
              "    <tr>\n",
              "      <th>3</th>\n",
              "      <td>http://columbia.co.cr/index.php/deportes/futbo...</td>\n",
              "      <td>http://columbia.co.cr/</td>\n",
              "      <td>1.0</td>\n",
              "      <td>columbia</td>\n",
              "      <td>jafet soto \"traían una estrategia de meter un ...</td>\n",
              "      <td>el técnico del club sport herediano, jafet sot...</td>\n",
              "      <td>news</td>\n",
              "      <td>jafet soto \"they brought a strategy to score a...</td>\n",
              "      <td>the coach of club sport herediano, jafet soto ...</td>\n",
              "      <td>['the', 'coach', 'of', 'club', 'sport', 'hered...</td>\n",
              "      <td>['el', 'técnico', 'del', 'club', 'sport', 'her...</td>\n",
              "      <td>['el', 'técnico', 'del', 'club', 'sport', 'her...</td>\n",
              "      <td>['the', 'coach', 'of', 'club', 'sport', 'hered...</td>\n",
              "      <td>the coach of club sport herediano  jafet soto ...</td>\n",
              "      <td>el técnico del club sport herediano  jafet sot...</td>\n",
              "    </tr>\n",
              "    <tr>\n",
              "      <th>4</th>\n",
              "      <td>http://columbia.co.cr/index.php/deportes/futbo...</td>\n",
              "      <td>http://columbia.co.cr/</td>\n",
              "      <td>1.0</td>\n",
              "      <td>columbia</td>\n",
              "      <td>el waterhouse deja fuera al herediano en los p...</td>\n",
              "      <td>el club sport herediano y el waterhouse defini...</td>\n",
              "      <td>news</td>\n",
              "      <td>waterhouse leaves out the herediano on penalties</td>\n",
              "      <td>the club sport herediano and waterhouse series...</td>\n",
              "      <td>['the', 'club', 'sport', 'herediano', 'and', '...</td>\n",
              "      <td>['el', 'club', 'sport', 'herediano', 'y', 'el'...</td>\n",
              "      <td>['el', 'club', 'sport', 'herediano', 'y', 'el'...</td>\n",
              "      <td>['the', 'club', 'sport', 'herediano', 'and', '...</td>\n",
              "      <td>the club sport herediano and waterhouse serie ...</td>\n",
              "      <td>el club sport herediano y el waterhouse defini...</td>\n",
              "    </tr>\n",
              "  </tbody>\n",
              "</table>\n",
              "</div>"
            ],
            "text/plain": [
              "                                          URLNoticia  ...                                  textoPreprocesado\n",
              "0  http://columbia.co.cr/index.php/reportajes/esp...  ...  detalle   lo rostro del desempleo detalle crea...\n",
              "1  http://columbia.co.cr/index.php/reportajes/esp...  ...  detalle alejandro arley con lo pie en lo luna ...\n",
              "2  http://columbia.co.cr/index.php/noticias/inter...  ...     con el dólar estadounidense alrededor de lo...\n",
              "3  http://columbia.co.cr/index.php/deportes/futbo...  ...  el técnico del club sport herediano  jafet sot...\n",
              "4  http://columbia.co.cr/index.php/deportes/futbo...  ...  el club sport herediano y el waterhouse defini...\n",
              "\n",
              "[5 rows x 15 columns]"
            ]
          },
          "metadata": {
            "tags": []
          },
          "execution_count": 486
        }
      ]
    },
    {
      "cell_type": "markdown",
      "metadata": {
        "id": "YGurDmknKKUw",
        "colab_type": "text"
      },
      "source": [
        "#Normalizar texto"
      ]
    },
    {
      "cell_type": "code",
      "metadata": {
        "id": "zu0gzjquKIAZ",
        "colab_type": "code",
        "colab": {}
      },
      "source": [
        "#https://carlosvin.github.io/es/posts/normalize-text-py/\n",
        "def normalize_text ( text ):\n",
        "  return normalize('NFKD', text).encode('ASCII', 'ignore')"
      ],
      "execution_count": null,
      "outputs": []
    },
    {
      "cell_type": "code",
      "metadata": {
        "id": "wJN-53QlKO9C",
        "colab_type": "code",
        "colab": {}
      },
      "source": [
        "#df2['textoPreprocesadoIngles'] = df2.apply(lambda row: normalize_text(row['textoPreprocesadoIngles']), axis=1)\n",
        "#df2['textoPreprocesado'] = df2.apply(lambda row: normalize_text(row['textoPreprocesado']), axis=1)\n",
        "#df2.head()"
      ],
      "execution_count": null,
      "outputs": []
    },
    {
      "cell_type": "code",
      "metadata": {
        "id": "BpRzZRd8wUfm",
        "colab_type": "code",
        "colab": {}
      },
      "source": [
        "#df2.to_csv(rootDir+'/ConjuntoDatosPreprocesados_20190922.csv')\n",
        "df2.to_excel(rootDir+'/ConjuntoDatosPreprocesados_20190922_lematizado.xlsx')"
      ],
      "execution_count": null,
      "outputs": []
    },
    {
      "cell_type": "markdown",
      "metadata": {
        "id": "Lxg_vXNvlwzf",
        "colab_type": "text"
      },
      "source": [
        ""
      ]
    }
  ]
}